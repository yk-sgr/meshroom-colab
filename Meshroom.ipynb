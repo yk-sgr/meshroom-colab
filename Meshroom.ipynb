{
  "nbformat": 4,
  "nbformat_minor": 0,
  "metadata": {
    "colab": {
      "name": "Meshroom.ipynb",
      "provenance": [],
      "authorship_tag": "ABX9TyMiKwTacxH4VB9FJRogJrzy",
      "include_colab_link": true
    },
    "kernelspec": {
      "name": "python3",
      "display_name": "Python 3"
    },
    "language_info": {
      "name": "python"
    }
  },
  "cells": [
    {
      "cell_type": "markdown",
      "metadata": {
        "id": "view-in-github",
        "colab_type": "text"
      },
      "source": [
        "<a href=\"https://colab.research.google.com/github/yk-sgr/meshroom-colab/blob/main/Meshroom.ipynb\" target=\"_parent\"><img src=\"https://colab.research.google.com/assets/colab-badge.svg\" alt=\"Open In Colab\"/></a>"
      ]
    },
    {
      "cell_type": "markdown",
      "metadata": {
        "id": "vbTvLLZV-xHa"
      },
      "source": [
        "Connect to Google Drive in order to load our images."
      ]
    },
    {
      "cell_type": "code",
      "metadata": {
        "id": "-tcx0RlI-ZBr"
      },
      "source": [
        "from google.colab import drive\n",
        "drive.mount('/content/drive')"
      ],
      "execution_count": null,
      "outputs": []
    },
    {
      "cell_type": "markdown",
      "metadata": {
        "id": "2XFlWhIA-8f6"
      },
      "source": [
        "Download and unpack Meshroom"
      ]
    },
    {
      "cell_type": "code",
      "metadata": {
        "id": "J3pWXa-t-5i-"
      },
      "source": [
        "!wget -N https://github.com/alicevision/meshroom/releases/download/v2021.1.0/Meshroom-2021.1.0-linux-cuda10.tar.gz\n",
        "!tar xzf Meshroom-2021.1.0-linux-cuda10.tar.gz"
      ],
      "execution_count": null,
      "outputs": []
    },
    {
      "cell_type": "markdown",
      "metadata": {
        "id": "Av23n4EF_r29"
      },
      "source": [
        "Build the model\n"
      ]
    },
    {
      "cell_type": "code",
      "metadata": {
        "id": "-siqSLts_uNb"
      },
      "source": [
        "input_dir = '/content/drive/MyDrive/my_images'\n",
        "\n",
        "!mkdir ./my_output\n",
        "!./Meshroom-2021.1.0-av2.4.0-centos7-cuda10.2/meshroom_batch -I '/content/drive/MyDrive/my_images' -o ./my_output"
      ],
      "execution_count": null,
      "outputs": []
    },
    {
      "cell_type": "markdown",
      "metadata": {
        "id": "QUhP5KuVAtkZ"
      },
      "source": [
        "Download the results"
      ]
    },
    {
      "cell_type": "code",
      "metadata": {
        "id": "UZ3xahNwAvfP"
      },
      "source": [
        "!zip -r result.zip ./my_output\n",
        "files.download('result.zip')"
      ],
      "execution_count": null,
      "outputs": []
    }
  ]
}